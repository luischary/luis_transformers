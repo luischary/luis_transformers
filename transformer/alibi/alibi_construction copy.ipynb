{
 "cells": [
  {
   "cell_type": "code",
   "execution_count": 1,
   "metadata": {},
   "outputs": [],
   "source": [
    "import torch\n",
    "import math"
   ]
  },
  {
   "cell_type": "code",
   "execution_count": 2,
   "metadata": {},
   "outputs": [],
   "source": [
    "max_tokens = 12\n",
    "tokens_per_sample = 5\n",
    "num_heads = 4"
   ]
  },
  {
   "cell_type": "code",
   "execution_count": 3,
   "metadata": {},
   "outputs": [
    {
     "data": {
      "text/plain": [
       "0.25"
      ]
     },
     "execution_count": 3,
     "metadata": {},
     "output_type": "execute_result"
    }
   ],
   "source": [
    "start = (2**(-2**-(math.log2(num_heads)-3)))\n",
    "start"
   ]
  },
  {
   "cell_type": "code",
   "execution_count": 4,
   "metadata": {},
   "outputs": [
    {
     "data": {
      "text/plain": [
       "[0.25, 0.0625, 0.015625, 0.00390625]"
      ]
     },
     "execution_count": 4,
     "metadata": {},
     "output_type": "execute_result"
    }
   ],
   "source": [
    "ratio = start\n",
    "slopes = [start*ratio**i for i in range(num_heads)]\n",
    "slopes"
   ]
  },
  {
   "cell_type": "code",
   "execution_count": 5,
   "metadata": {},
   "outputs": [
    {
     "data": {
      "text/plain": [
       "tensor([0.2500, 0.0625, 0.0156, 0.0039])"
      ]
     },
     "execution_count": 5,
     "metadata": {},
     "output_type": "execute_result"
    }
   ],
   "source": [
    "slopes_t = torch.Tensor(slopes)\n",
    "slopes_t"
   ]
  },
  {
   "cell_type": "code",
   "execution_count": 19,
   "metadata": {},
   "outputs": [],
   "source": [
    "qlen = tokens_per_sample\n",
    "klen = tokens_per_sample\n",
    "device = \"cpu\""
   ]
  },
  {
   "cell_type": "code",
   "execution_count": 20,
   "metadata": {},
   "outputs": [
    {
     "name": "stdout",
     "output_type": "stream",
     "text": [
      "torch.Size([5, 1])\n"
     ]
    },
    {
     "data": {
      "text/plain": [
       "tensor([[0],\n",
       "        [1],\n",
       "        [2],\n",
       "        [3],\n",
       "        [4]])"
      ]
     },
     "execution_count": 20,
     "metadata": {},
     "output_type": "execute_result"
    }
   ],
   "source": [
    "context_position = torch.arange(qlen, dtype=torch.long, device=device)[:, None]\n",
    "print(context_position.shape)\n",
    "context_position"
   ]
  },
  {
   "cell_type": "code",
   "execution_count": 21,
   "metadata": {},
   "outputs": [
    {
     "name": "stdout",
     "output_type": "stream",
     "text": [
      "torch.Size([1, 5])\n"
     ]
    },
    {
     "data": {
      "text/plain": [
       "tensor([[0, 1, 2, 3, 4]])"
      ]
     },
     "execution_count": 21,
     "metadata": {},
     "output_type": "execute_result"
    }
   ],
   "source": [
    "memory_position = torch.arange(klen, dtype=torch.long, device=device)[None, :]\n",
    "print(memory_position.shape)\n",
    "memory_position"
   ]
  },
  {
   "cell_type": "code",
   "execution_count": 22,
   "metadata": {},
   "outputs": [
    {
     "name": "stdout",
     "output_type": "stream",
     "text": [
      "torch.Size([5, 5])\n"
     ]
    },
    {
     "data": {
      "text/plain": [
       "tensor([[ 0,  1,  2,  3,  4],\n",
       "        [-1,  0,  1,  2,  3],\n",
       "        [-2, -1,  0,  1,  2],\n",
       "        [-3, -2, -1,  0,  1],\n",
       "        [-4, -3, -2, -1,  0]])"
      ]
     },
     "execution_count": 22,
     "metadata": {},
     "output_type": "execute_result"
    }
   ],
   "source": [
    "relative_position = memory_position - context_position\n",
    "print(relative_position.shape)\n",
    "relative_position"
   ]
  },
  {
   "cell_type": "code",
   "execution_count": 23,
   "metadata": {},
   "outputs": [
    {
     "data": {
      "text/plain": [
       "tensor([[ 0, -1, -2, -3, -4],\n",
       "        [-1,  0, -1, -2, -3],\n",
       "        [-2, -1,  0, -1, -2],\n",
       "        [-3, -2, -1,  0, -1],\n",
       "        [-4, -3, -2, -1,  0]])"
      ]
     },
     "execution_count": 23,
     "metadata": {},
     "output_type": "execute_result"
    }
   ],
   "source": [
    "relative_position = relative_position.abs() * -1\n",
    "relative_position"
   ]
  },
  {
   "cell_type": "code",
   "execution_count": 24,
   "metadata": {},
   "outputs": [
    {
     "data": {
      "text/plain": [
       "tensor([[[ 0.0000, -0.2500, -0.5000, -0.7500, -1.0000],\n",
       "         [-0.2500,  0.0000, -0.2500, -0.5000, -0.7500],\n",
       "         [-0.5000, -0.2500,  0.0000, -0.2500, -0.5000],\n",
       "         [-0.7500, -0.5000, -0.2500,  0.0000, -0.2500],\n",
       "         [-1.0000, -0.7500, -0.5000, -0.2500,  0.0000]],\n",
       "\n",
       "        [[ 0.0000, -0.0625, -0.1250, -0.1875, -0.2500],\n",
       "         [-0.0625,  0.0000, -0.0625, -0.1250, -0.1875],\n",
       "         [-0.1250, -0.0625,  0.0000, -0.0625, -0.1250],\n",
       "         [-0.1875, -0.1250, -0.0625,  0.0000, -0.0625],\n",
       "         [-0.2500, -0.1875, -0.1250, -0.0625,  0.0000]],\n",
       "\n",
       "        [[ 0.0000, -0.0156, -0.0312, -0.0469, -0.0625],\n",
       "         [-0.0156,  0.0000, -0.0156, -0.0312, -0.0469],\n",
       "         [-0.0312, -0.0156,  0.0000, -0.0156, -0.0312],\n",
       "         [-0.0469, -0.0312, -0.0156,  0.0000, -0.0156],\n",
       "         [-0.0625, -0.0469, -0.0312, -0.0156,  0.0000]],\n",
       "\n",
       "        [[ 0.0000, -0.0039, -0.0078, -0.0117, -0.0156],\n",
       "         [-0.0039,  0.0000, -0.0039, -0.0078, -0.0117],\n",
       "         [-0.0078, -0.0039,  0.0000, -0.0039, -0.0078],\n",
       "         [-0.0117, -0.0078, -0.0039,  0.0000, -0.0039],\n",
       "         [-0.0156, -0.0117, -0.0078, -0.0039,  0.0000]]])"
      ]
     },
     "execution_count": 24,
     "metadata": {},
     "output_type": "execute_result"
    }
   ],
   "source": [
    "alibi = relative_position.unsqueeze(0).expand(num_heads, -1, -1) * slopes_t.unsqueeze(1).unsqueeze(1)\n",
    "alibi"
   ]
  },
  {
   "cell_type": "code",
   "execution_count": 25,
   "metadata": {},
   "outputs": [],
   "source": [
    "def fill_with_neg_inf(t):\n",
    "    \"\"\"FP16-compatible function that fills a tensor with -inf.\"\"\"\n",
    "    return t.float().fill_(float(\"-inf\")).type_as(t)"
   ]
  },
  {
   "cell_type": "code",
   "execution_count": 26,
   "metadata": {},
   "outputs": [
    {
     "data": {
      "text/plain": [
       "tensor([[0., -inf, -inf, -inf, -inf],\n",
       "        [0., 0., -inf, -inf, -inf],\n",
       "        [0., 0., 0., -inf, -inf],\n",
       "        [0., 0., 0., 0., -inf],\n",
       "        [0., 0., 0., 0., 0.]])"
      ]
     },
     "execution_count": 26,
     "metadata": {},
     "output_type": "execute_result"
    }
   ],
   "source": [
    "future_mask = torch.triu(fill_with_neg_inf(torch.zeros((tokens_per_sample, tokens_per_sample))), diagonal=1)\n",
    "future_mask"
   ]
  },
  {
   "cell_type": "code",
   "execution_count": 27,
   "metadata": {},
   "outputs": [
    {
     "data": {
      "text/plain": [
       "tensor([[[ 0.0000,    -inf,    -inf,    -inf,    -inf],\n",
       "         [-0.2500,  0.0000,    -inf,    -inf,    -inf],\n",
       "         [-0.5000, -0.2500,  0.0000,    -inf,    -inf],\n",
       "         [-0.7500, -0.5000, -0.2500,  0.0000,    -inf],\n",
       "         [-1.0000, -0.7500, -0.5000, -0.2500,  0.0000]],\n",
       "\n",
       "        [[ 0.0000,    -inf,    -inf,    -inf,    -inf],\n",
       "         [-0.0625,  0.0000,    -inf,    -inf,    -inf],\n",
       "         [-0.1250, -0.0625,  0.0000,    -inf,    -inf],\n",
       "         [-0.1875, -0.1250, -0.0625,  0.0000,    -inf],\n",
       "         [-0.2500, -0.1875, -0.1250, -0.0625,  0.0000]],\n",
       "\n",
       "        [[ 0.0000,    -inf,    -inf,    -inf,    -inf],\n",
       "         [-0.0156,  0.0000,    -inf,    -inf,    -inf],\n",
       "         [-0.0312, -0.0156,  0.0000,    -inf,    -inf],\n",
       "         [-0.0469, -0.0312, -0.0156,  0.0000,    -inf],\n",
       "         [-0.0625, -0.0469, -0.0312, -0.0156,  0.0000]],\n",
       "\n",
       "        [[ 0.0000,    -inf,    -inf,    -inf,    -inf],\n",
       "         [-0.0039,  0.0000,    -inf,    -inf,    -inf],\n",
       "         [-0.0078, -0.0039,  0.0000,    -inf,    -inf],\n",
       "         [-0.0117, -0.0078, -0.0039,  0.0000,    -inf],\n",
       "         [-0.0156, -0.0117, -0.0078, -0.0039,  0.0000]]])"
      ]
     },
     "execution_count": 27,
     "metadata": {},
     "output_type": "execute_result"
    }
   ],
   "source": [
    "future_mask = future_mask.unsqueeze(0) + alibi\n",
    "future_mask"
   ]
  },
  {
   "cell_type": "code",
   "execution_count": 28,
   "metadata": {},
   "outputs": [
    {
     "data": {
      "text/plain": [
       "torch.Size([4, 5, 5])"
      ]
     },
     "execution_count": 28,
     "metadata": {},
     "output_type": "execute_result"
    }
   ],
   "source": [
    "future_mask.shape"
   ]
  },
  {
   "cell_type": "code",
   "execution_count": 30,
   "metadata": {},
   "outputs": [
    {
     "data": {
      "text/plain": [
       "tensor([[[ 0.0000,    -inf,    -inf],\n",
       "         [-0.2500,  0.0000,    -inf],\n",
       "         [-0.5000, -0.2500,  0.0000]],\n",
       "\n",
       "        [[ 0.0000,    -inf,    -inf],\n",
       "         [-0.0625,  0.0000,    -inf],\n",
       "         [-0.1250, -0.0625,  0.0000]],\n",
       "\n",
       "        [[ 0.0000,    -inf,    -inf],\n",
       "         [-0.0156,  0.0000,    -inf],\n",
       "         [-0.0312, -0.0156,  0.0000]],\n",
       "\n",
       "        [[ 0.0000,    -inf,    -inf],\n",
       "         [-0.0039,  0.0000,    -inf],\n",
       "         [-0.0078, -0.0039,  0.0000]]])"
      ]
     },
     "execution_count": 30,
     "metadata": {},
     "output_type": "execute_result"
    }
   ],
   "source": [
    "future_mask[:, :3, :3]"
   ]
  },
  {
   "cell_type": "code",
   "execution_count": 75,
   "metadata": {},
   "outputs": [
    {
     "data": {
      "text/plain": [
       "tensor([[[[1., 0., 0., 0., 0.],\n",
       "          [1., 1., 0., 0., 0.],\n",
       "          [1., 1., 1., 0., 0.],\n",
       "          [1., 1., 1., 1., 0.],\n",
       "          [1., 1., 1., 1., 1.]]]])"
      ]
     },
     "execution_count": 75,
     "metadata": {},
     "output_type": "execute_result"
    }
   ],
   "source": [
    "mascara_normal = (\n",
    "            torch.tril(torch.ones((5, 5)))\n",
    "            .view((1, 1, 5, 5))\n",
    "        )\n",
    "mascara_normal"
   ]
  },
  {
   "cell_type": "code",
   "execution_count": 76,
   "metadata": {},
   "outputs": [
    {
     "data": {
      "text/plain": [
       "tensor([[[[-1.0000,    -inf,    -inf,    -inf,    -inf],\n",
       "          [-1.0000, -0.5000,    -inf,    -inf,    -inf],\n",
       "          [-1.0000, -0.5000,  0.0000,    -inf,    -inf],\n",
       "          [-1.0000, -0.5000,  0.0000,  0.5000,    -inf],\n",
       "          [-1.0000, -0.5000,  0.0000,  0.5000,  1.0000]],\n",
       "\n",
       "         [[ 0.5000,    -inf,    -inf,    -inf,    -inf],\n",
       "          [ 0.5000,  0.6250,    -inf,    -inf,    -inf],\n",
       "          [ 0.5000,  0.6250,  0.7500,    -inf,    -inf],\n",
       "          [ 0.5000,  0.6250,  0.7500,  0.8750,    -inf],\n",
       "          [ 0.5000,  0.6250,  0.7500,  0.8750,  1.0000]],\n",
       "\n",
       "         [[ 0.8750,    -inf,    -inf,    -inf,    -inf],\n",
       "          [ 0.8750,  0.9062,    -inf,    -inf,    -inf],\n",
       "          [ 0.8750,  0.9062,  0.9375,    -inf,    -inf],\n",
       "          [ 0.8750,  0.9062,  0.9375,  0.9688,    -inf],\n",
       "          [ 0.8750,  0.9062,  0.9375,  0.9688,  1.0000]],\n",
       "\n",
       "         [[ 0.9688,    -inf,    -inf,    -inf,    -inf],\n",
       "          [ 0.9688,  0.9766,    -inf,    -inf,    -inf],\n",
       "          [ 0.9688,  0.9766,  0.9844,    -inf,    -inf],\n",
       "          [ 0.9688,  0.9766,  0.9844,  0.9922,    -inf],\n",
       "          [ 0.9688,  0.9766,  0.9844,  0.9922,  1.0000]]]])"
      ]
     },
     "execution_count": 76,
     "metadata": {},
     "output_type": "execute_result"
    }
   ],
   "source": [
    "mascara_normal + future_mask"
   ]
  }
 ],
 "metadata": {
  "kernelspec": {
   "display_name": "venv",
   "language": "python",
   "name": "python3"
  },
  "language_info": {
   "codemirror_mode": {
    "name": "ipython",
    "version": 3
   },
   "file_extension": ".py",
   "mimetype": "text/x-python",
   "name": "python",
   "nbconvert_exporter": "python",
   "pygments_lexer": "ipython3",
   "version": "3.8.10"
  },
  "orig_nbformat": 4
 },
 "nbformat": 4,
 "nbformat_minor": 2
}
