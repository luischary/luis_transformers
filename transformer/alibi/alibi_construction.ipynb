{
 "cells": [
  {
   "cell_type": "code",
   "execution_count": 2,
   "metadata": {},
   "outputs": [],
   "source": [
    "import torch\n",
    "import math"
   ]
  },
  {
   "cell_type": "code",
   "execution_count": 53,
   "metadata": {},
   "outputs": [],
   "source": [
    "max_tokens = 12\n",
    "tokens_per_sample = 5\n",
    "num_heads = 4"
   ]
  },
  {
   "cell_type": "code",
   "execution_count": 54,
   "metadata": {},
   "outputs": [
    {
     "data": {
      "text/plain": [
       "0.25"
      ]
     },
     "execution_count": 54,
     "metadata": {},
     "output_type": "execute_result"
    }
   ],
   "source": [
    "start = (2**(-2**-(math.log2(num_heads)-3)))\n",
    "start"
   ]
  },
  {
   "cell_type": "code",
   "execution_count": 55,
   "metadata": {},
   "outputs": [
    {
     "data": {
      "text/plain": [
       "[0.25, 0.0625, 0.015625, 0.00390625]"
      ]
     },
     "execution_count": 55,
     "metadata": {},
     "output_type": "execute_result"
    }
   ],
   "source": [
    "ratio = start\n",
    "slopes = [start*ratio**i for i in range(num_heads)]\n",
    "slopes"
   ]
  },
  {
   "cell_type": "code",
   "execution_count": 56,
   "metadata": {},
   "outputs": [
    {
     "data": {
      "text/plain": [
       "tensor([-0.2500, -0.0625, -0.0156, -0.0039])"
      ]
     },
     "execution_count": 56,
     "metadata": {},
     "output_type": "execute_result"
    }
   ],
   "source": [
    "slopes_t = torch.Tensor(slopes) * -1\n",
    "slopes_t"
   ]
  },
  {
   "cell_type": "code",
   "execution_count": 57,
   "metadata": {},
   "outputs": [
    {
     "name": "stdout",
     "output_type": "stream",
     "text": [
      "torch.Size([4, 1, 1])\n"
     ]
    },
    {
     "data": {
      "text/plain": [
       "tensor([[[-0.2500]],\n",
       "\n",
       "        [[-0.0625]],\n",
       "\n",
       "        [[-0.0156]],\n",
       "\n",
       "        [[-0.0039]]])"
      ]
     },
     "execution_count": 57,
     "metadata": {},
     "output_type": "execute_result"
    }
   ],
   "source": [
    "termo_1 = slopes_t.unsqueeze(1).unsqueeze(1)\n",
    "print(termo_1.shape)\n",
    "termo_1"
   ]
  },
  {
   "cell_type": "code",
   "execution_count": 58,
   "metadata": {},
   "outputs": [
    {
     "name": "stdout",
     "output_type": "stream",
     "text": [
      "torch.Size([4, 1, 5])\n"
     ]
    },
    {
     "data": {
      "text/plain": [
       "tensor([[[0, 1, 2, 3, 4]],\n",
       "\n",
       "        [[0, 1, 2, 3, 4]],\n",
       "\n",
       "        [[0, 1, 2, 3, 4]],\n",
       "\n",
       "        [[0, 1, 2, 3, 4]]])"
      ]
     },
     "execution_count": 58,
     "metadata": {},
     "output_type": "execute_result"
    }
   ],
   "source": [
    "termo_2 = torch.arange(tokens_per_sample).unsqueeze(0).unsqueeze(0).expand(num_heads, -1, -1)\n",
    "print(termo_2.shape)\n",
    "termo_2"
   ]
  },
  {
   "cell_type": "code",
   "execution_count": 63,
   "metadata": {},
   "outputs": [
    {
     "name": "stdout",
     "output_type": "stream",
     "text": [
      "torch.Size([4, 1, 5])\n"
     ]
    },
    {
     "data": {
      "text/plain": [
       "tensor([[[-0.0000, -0.2500, -0.5000, -0.7500, -1.0000]],\n",
       "\n",
       "        [[-0.0000, -0.0625, -0.1250, -0.1875, -0.2500]],\n",
       "\n",
       "        [[-0.0000, -0.0156, -0.0312, -0.0469, -0.0625]],\n",
       "\n",
       "        [[-0.0000, -0.0039, -0.0078, -0.0117, -0.0156]]])"
      ]
     },
     "execution_count": 63,
     "metadata": {},
     "output_type": "execute_result"
    }
   ],
   "source": [
    "alibi = termo_1 * termo_2\n",
    "print(alibi.shape)\n",
    "alibi"
   ]
  },
  {
   "cell_type": "code",
   "execution_count": 64,
   "metadata": {},
   "outputs": [
    {
     "data": {
      "text/plain": [
       "tensor([[[-1.0000, -0.7500, -0.5000, -0.2500, -0.0000]],\n",
       "\n",
       "        [[-0.2500, -0.1875, -0.1250, -0.0625, -0.0000]],\n",
       "\n",
       "        [[-0.0625, -0.0469, -0.0312, -0.0156, -0.0000]],\n",
       "\n",
       "        [[-0.0156, -0.0117, -0.0078, -0.0039, -0.0000]]])"
      ]
     },
     "execution_count": 64,
     "metadata": {},
     "output_type": "execute_result"
    }
   ],
   "source": [
    "alibi, _ = torch.sort(alibi, dim=-1, descending=False)\n",
    "alibi"
   ]
  },
  {
   "cell_type": "code",
   "execution_count": 65,
   "metadata": {},
   "outputs": [
    {
     "data": {
      "text/plain": [
       "tensor([[[-1.0000, -0.7500, -0.5000, -0.2500, -0.0000]],\n",
       "\n",
       "        [[-0.2500, -0.1875, -0.1250, -0.0625, -0.0000]],\n",
       "\n",
       "        [[-0.0625, -0.0469, -0.0312, -0.0156, -0.0000]],\n",
       "\n",
       "        [[-0.0156, -0.0117, -0.0078, -0.0039, -0.0000]]])"
      ]
     },
     "execution_count": 65,
     "metadata": {},
     "output_type": "execute_result"
    }
   ],
   "source": [
    "alibi = alibi.view(num_heads, 1, tokens_per_sample)\n",
    "alibi"
   ]
  },
  {
   "cell_type": "code",
   "execution_count": 66,
   "metadata": {},
   "outputs": [],
   "source": [
    "# alibi = alibi.repeat(max_tokens // tokens_per_sample, 1, 1)\n",
    "# alibi"
   ]
  },
  {
   "cell_type": "code",
   "execution_count": 67,
   "metadata": {},
   "outputs": [],
   "source": [
    "def fill_with_neg_inf(t):\n",
    "    \"\"\"FP16-compatible function that fills a tensor with -inf.\"\"\"\n",
    "    return t.float().fill_(float(\"-inf\")).type_as(t)"
   ]
  },
  {
   "cell_type": "code",
   "execution_count": 68,
   "metadata": {},
   "outputs": [
    {
     "data": {
      "text/plain": [
       "tensor([[0., -inf, -inf, -inf, -inf],\n",
       "        [0., 0., -inf, -inf, -inf],\n",
       "        [0., 0., 0., -inf, -inf],\n",
       "        [0., 0., 0., 0., -inf],\n",
       "        [0., 0., 0., 0., 0.]])"
      ]
     },
     "execution_count": 68,
     "metadata": {},
     "output_type": "execute_result"
    }
   ],
   "source": [
    "future_mask = torch.triu(fill_with_neg_inf(torch.zeros((tokens_per_sample, tokens_per_sample))), diagonal=1)\n",
    "future_mask"
   ]
  },
  {
   "cell_type": "code",
   "execution_count": 70,
   "metadata": {},
   "outputs": [
    {
     "data": {
      "text/plain": [
       "tensor([[[[-2.0000,    -inf,    -inf,    -inf,    -inf],\n",
       "          [-2.0000, -1.5000,    -inf,    -inf,    -inf],\n",
       "          [-2.0000, -1.5000, -1.0000,    -inf,    -inf],\n",
       "          [-2.0000, -1.5000, -1.0000, -0.5000,    -inf],\n",
       "          [-2.0000, -1.5000, -1.0000, -0.5000,  0.0000]],\n",
       "\n",
       "         [[-0.5000,    -inf,    -inf,    -inf,    -inf],\n",
       "          [-0.5000, -0.3750,    -inf,    -inf,    -inf],\n",
       "          [-0.5000, -0.3750, -0.2500,    -inf,    -inf],\n",
       "          [-0.5000, -0.3750, -0.2500, -0.1250,    -inf],\n",
       "          [-0.5000, -0.3750, -0.2500, -0.1250,  0.0000]],\n",
       "\n",
       "         [[-0.1250,    -inf,    -inf,    -inf,    -inf],\n",
       "          [-0.1250, -0.0938,    -inf,    -inf,    -inf],\n",
       "          [-0.1250, -0.0938, -0.0625,    -inf,    -inf],\n",
       "          [-0.1250, -0.0938, -0.0625, -0.0312,    -inf],\n",
       "          [-0.1250, -0.0938, -0.0625, -0.0312,  0.0000]],\n",
       "\n",
       "         [[-0.0312,    -inf,    -inf,    -inf,    -inf],\n",
       "          [-0.0312, -0.0234,    -inf,    -inf,    -inf],\n",
       "          [-0.0312, -0.0234, -0.0156,    -inf,    -inf],\n",
       "          [-0.0312, -0.0234, -0.0156, -0.0078,    -inf],\n",
       "          [-0.0312, -0.0234, -0.0156, -0.0078,  0.0000]]]])"
      ]
     },
     "execution_count": 70,
     "metadata": {},
     "output_type": "execute_result"
    }
   ],
   "source": [
    "future_mask = future_mask.unsqueeze(0) + alibi\n",
    "future_mask"
   ]
  },
  {
   "cell_type": "code",
   "execution_count": 71,
   "metadata": {},
   "outputs": [
    {
     "data": {
      "text/plain": [
       "torch.Size([1, 4, 5, 5])"
      ]
     },
     "execution_count": 71,
     "metadata": {},
     "output_type": "execute_result"
    }
   ],
   "source": [
    "future_mask.shape"
   ]
  },
  {
   "cell_type": "code",
   "execution_count": 74,
   "metadata": {},
   "outputs": [
    {
     "data": {
      "text/plain": [
       "tensor([[[[-2.0000,    -inf,    -inf],\n",
       "          [-2.0000, -1.5000,    -inf],\n",
       "          [-2.0000, -1.5000, -1.0000]],\n",
       "\n",
       "         [[-0.5000,    -inf,    -inf],\n",
       "          [-0.5000, -0.3750,    -inf],\n",
       "          [-0.5000, -0.3750, -0.2500]],\n",
       "\n",
       "         [[-0.1250,    -inf,    -inf],\n",
       "          [-0.1250, -0.0938,    -inf],\n",
       "          [-0.1250, -0.0938, -0.0625]],\n",
       "\n",
       "         [[-0.0312,    -inf,    -inf],\n",
       "          [-0.0312, -0.0234,    -inf],\n",
       "          [-0.0312, -0.0234, -0.0156]]]])"
      ]
     },
     "execution_count": 74,
     "metadata": {},
     "output_type": "execute_result"
    }
   ],
   "source": [
    "future_mask[:, :, :3, :3]"
   ]
  },
  {
   "cell_type": "code",
   "execution_count": 75,
   "metadata": {},
   "outputs": [
    {
     "data": {
      "text/plain": [
       "tensor([[[[1., 0., 0., 0., 0.],\n",
       "          [1., 1., 0., 0., 0.],\n",
       "          [1., 1., 1., 0., 0.],\n",
       "          [1., 1., 1., 1., 0.],\n",
       "          [1., 1., 1., 1., 1.]]]])"
      ]
     },
     "execution_count": 75,
     "metadata": {},
     "output_type": "execute_result"
    }
   ],
   "source": [
    "mascara_normal = (\n",
    "            torch.tril(torch.ones((5, 5)))\n",
    "            .view((1, 1, 5, 5))\n",
    "        )\n",
    "mascara_normal"
   ]
  },
  {
   "cell_type": "code",
   "execution_count": 76,
   "metadata": {},
   "outputs": [
    {
     "data": {
      "text/plain": [
       "tensor([[[[-1.0000,    -inf,    -inf,    -inf,    -inf],\n",
       "          [-1.0000, -0.5000,    -inf,    -inf,    -inf],\n",
       "          [-1.0000, -0.5000,  0.0000,    -inf,    -inf],\n",
       "          [-1.0000, -0.5000,  0.0000,  0.5000,    -inf],\n",
       "          [-1.0000, -0.5000,  0.0000,  0.5000,  1.0000]],\n",
       "\n",
       "         [[ 0.5000,    -inf,    -inf,    -inf,    -inf],\n",
       "          [ 0.5000,  0.6250,    -inf,    -inf,    -inf],\n",
       "          [ 0.5000,  0.6250,  0.7500,    -inf,    -inf],\n",
       "          [ 0.5000,  0.6250,  0.7500,  0.8750,    -inf],\n",
       "          [ 0.5000,  0.6250,  0.7500,  0.8750,  1.0000]],\n",
       "\n",
       "         [[ 0.8750,    -inf,    -inf,    -inf,    -inf],\n",
       "          [ 0.8750,  0.9062,    -inf,    -inf,    -inf],\n",
       "          [ 0.8750,  0.9062,  0.9375,    -inf,    -inf],\n",
       "          [ 0.8750,  0.9062,  0.9375,  0.9688,    -inf],\n",
       "          [ 0.8750,  0.9062,  0.9375,  0.9688,  1.0000]],\n",
       "\n",
       "         [[ 0.9688,    -inf,    -inf,    -inf,    -inf],\n",
       "          [ 0.9688,  0.9766,    -inf,    -inf,    -inf],\n",
       "          [ 0.9688,  0.9766,  0.9844,    -inf,    -inf],\n",
       "          [ 0.9688,  0.9766,  0.9844,  0.9922,    -inf],\n",
       "          [ 0.9688,  0.9766,  0.9844,  0.9922,  1.0000]]]])"
      ]
     },
     "execution_count": 76,
     "metadata": {},
     "output_type": "execute_result"
    }
   ],
   "source": [
    "mascara_normal + future_mask"
   ]
  }
 ],
 "metadata": {
  "kernelspec": {
   "display_name": "venv",
   "language": "python",
   "name": "python3"
  },
  "language_info": {
   "codemirror_mode": {
    "name": "ipython",
    "version": 3
   },
   "file_extension": ".py",
   "mimetype": "text/x-python",
   "name": "python",
   "nbconvert_exporter": "python",
   "pygments_lexer": "ipython3",
   "version": "3.8.10"
  },
  "orig_nbformat": 4
 },
 "nbformat": 4,
 "nbformat_minor": 2
}
