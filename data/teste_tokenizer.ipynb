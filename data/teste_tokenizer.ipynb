{
 "cells": [
  {
   "cell_type": "code",
   "execution_count": 2,
   "metadata": {},
   "outputs": [],
   "source": [
    "from tokenizers import (\n",
    "    decoders,\n",
    "    models,\n",
    "    pre_tokenizers,\n",
    "    trainers,\n",
    "    normalizers,\n",
    "    Tokenizer,\n",
    ")\n",
    "from transformers import PreTrainedTokenizerFast\n",
    "from pathlib import Path"
   ]
  },
  {
   "cell_type": "code",
   "execution_count": 3,
   "metadata": {},
   "outputs": [],
   "source": [
    "data_paths = [\n",
    "    \"/media/luischary/BIGGER/DATASETS/NLP/AlpacaPT/textos\",\n",
    "    \"/media/luischary/BIGGER/DATASETS/NLP/Livros/textos_extraidos\",\n",
    "    \"/media/luischary/BIGGER/DATASETS/NLP/OUTROS/corpus_readability_nlp_portuguese-master/1_Ensino_Fundamental_I\",\n",
    "    \"/media/luischary/BIGGER/DATASETS/NLP/OUTROS/corpus_readability_nlp_portuguese-master/2_Ensino_Fundamental_II\",\n",
    "    \"/media/luischary/BIGGER/DATASETS/NLP/OUTROS/corpus_readability_nlp_portuguese-master/3_Ensino_Medio\",\n",
    "    \"/media/luischary/BIGGER/DATASETS/NLP/OUTROS/corpus_readability_nlp_portuguese-master/4_Ensino_Superior\",\n",
    "    \"/media/luischary/BIGGER/DATASETS/NLP/OUTROS/enem_2022/textos\",\n",
    "    \"/media/luischary/BIGGER/DATASETS/NLP/Summarization/portuguese_XLSum_v2/textos_train\",\n",
    "    \"/media/luischary/BIGGER/DATASETS/NLP/Summarization/TeMario-ULTIMA VERSAO out2004/textos\",\n",
    "    \"/media/luischary/BIGGER/DATASETS/NLP/Traducao/textos_capes\",\n",
    "]\n",
    "\n",
    "\n",
    "def iterate_over_texts():\n",
    "    for datafolder in data_paths:\n",
    "        input_path = Path(datafolder)\n",
    "        for arquivo_de_texto in input_path.glob(\"*.txt\"):\n",
    "            yield arquivo_de_texto.read_text(encoding=\"utf8\")"
   ]
  },
  {
   "cell_type": "code",
   "execution_count": 4,
   "metadata": {},
   "outputs": [],
   "source": [
    "frase_teste = \"Esta é a minha primeira frase maçante. Senhor cuzão 12345\""
   ]
  },
  {
   "cell_type": "code",
   "execution_count": 13,
   "metadata": {},
   "outputs": [
    {
     "name": "stdout",
     "output_type": "stream",
     "text": [
      "[('Esta', (0, 4)), ('ĠÃ©', (4, 6)), ('Ġa', (6, 8)), ('Ġminha', (8, 14)), ('Ġprimeira', (14, 23)), ('Ġfrase', (23, 29)), ('ĠmaÃ§ante', (29, 37)), ('.', (37, 38)), ('ĠSenhor', (38, 45)), ('ĠcuzÃ£o', (45, 51)), ('Ġ12345', (51, 57))]\n",
      "\n",
      "\n",
      "\n"
     ]
    }
   ],
   "source": [
    "# cria o tokenizer\n",
    "tokenizer = Tokenizer(models.BPE())\n",
    "\n",
    "# cria o pre-tokenizer\n",
    "tokenizer.pre_tokenizer = pre_tokenizers.ByteLevel(add_prefix_space=False)\n",
    "# essa opcao de add_prefix_space serve para adicionar um espaco no comeco.\n",
    "# como eh falsa, nao vamos adicionar um espaco no comeco da string.\n",
    "\n",
    "# teste do pre-tokenizer\n",
    "print(tokenizer.pre_tokenizer.pre_tokenize_str(frase_teste))\n",
    "\n",
    "# bota um normalizer para substituir algumas coisas\n",
    "tokenizer.normalizer = normalizers.Sequence(\n",
    "    [\n",
    "        normalizers.Replace(\"\\n(.)\\n\", \"\\n\"),\n",
    "        normalizers.Replace(\"[\\n\\n]+\", \"\\n\\n\"),\n",
    "        # normalizers.NFC(),\n",
    "        # normalizers.NFD(),\n",
    "        # normalizers.NFKC(),\n",
    "        normalizers.NFKD(),\n",
    "    ]\n",
    ")\n",
    "\n",
    "# cria o trainer do tokenizer\n",
    "trainer = trainers.BpeTrainer(\n",
    "    vocab_size=50000,\n",
    "    special_tokens=[\n",
    "        \"<pad>\",\n",
    "        \"<s>\",\n",
    "        \"</s>\",\n",
    "        \"<mask>\",\n",
    "        \"<cls>\",\n",
    "        \"<question>\",\n",
    "        \"<answer>\",\n",
    "        \"<unk>\",\n",
    "    ],\n",
    ")\n",
    "tokenizer.train_from_iterator(iterate_over_texts(), trainer=trainer)\n",
    "\n",
    "# agora, para nao ficar com aquele G que representa o espaco no comeco da palavra quando\n",
    "# detokenizarmos o texto\n",
    "# para isso colocarmos um decoder de bytelevel\n",
    "tokenizer.decoder = decoders.ByteLevel()\n",
    "\n",
    "# no final temos que salvar ele de alguma forma\n",
    "# vamos usar a classe basica de PreTrainedTokenizerFast\n",
    "wrapped_tokenizer = PreTrainedTokenizerFast(\n",
    "    tokenizer_object=tokenizer,\n",
    "    bos_token=\"<s>\",\n",
    "    eos_token=\"</s>\",\n",
    "    unk_token=\"<unk>\",\n",
    "    pad_token=\"<pad>\",\n",
    "    mask_token=\"<mask>\",\n",
    "    cls_token=\"<cls>\",\n",
    ")"
   ]
  },
  {
   "cell_type": "code",
   "execution_count": 14,
   "metadata": {},
   "outputs": [
    {
     "name": "stdout",
     "output_type": "stream",
     "text": [
      "Esta é a minha primeira frase maçante. Senhor cuzão 12345\n",
      "19\n",
      "Esta é a minha primeira frase maçante. Senhor cuzão 12345\n"
     ]
    }
   ],
   "source": [
    "#NFKD\n",
    "tokenizado = wrapped_tokenizer.encode(frase_teste)\n",
    "detokenizado = wrapped_tokenizer.decode(tokenizado)\n",
    "print(frase_teste)\n",
    "print(len(tokenizado))\n",
    "print(detokenizado)"
   ]
  },
  {
   "cell_type": "code",
   "execution_count": 12,
   "metadata": {},
   "outputs": [
    {
     "name": "stdout",
     "output_type": "stream",
     "text": [
      "Esta é a minha primeira frase maçante. Senhor cuzão 12345\n",
      "16\n",
      "Esta é a minha primeira frase maçante. Senhor cuzão 12345\n"
     ]
    }
   ],
   "source": [
    "#NFKC\n",
    "tokenizado = wrapped_tokenizer.encode(frase_teste)\n",
    "detokenizado = wrapped_tokenizer.decode(tokenizado)\n",
    "print(frase_teste)\n",
    "print(len(tokenizado))\n",
    "print(detokenizado)"
   ]
  },
  {
   "cell_type": "code",
   "execution_count": 10,
   "metadata": {},
   "outputs": [
    {
     "name": "stdout",
     "output_type": "stream",
     "text": [
      "Esta é a minha primeira frase maçante. Senhor cuzão 12345\n",
      "19\n",
      "Esta é a minha primeira frase maçante. Senhor cuzão 12345\n"
     ]
    }
   ],
   "source": [
    "#NFD\n",
    "tokenizado = wrapped_tokenizer.encode(frase_teste)\n",
    "detokenizado = wrapped_tokenizer.decode(tokenizado)\n",
    "print(frase_teste)\n",
    "print(len(tokenizado))\n",
    "print(detokenizado)"
   ]
  },
  {
   "cell_type": "code",
   "execution_count": 8,
   "metadata": {},
   "outputs": [
    {
     "name": "stdout",
     "output_type": "stream",
     "text": [
      "Esta é a minha primeira frase maçante. Senhor cuzão 12345\n",
      "16\n",
      "Esta é a minha primeira frase maçante. Senhor cuzão 12345\n"
     ]
    }
   ],
   "source": [
    "#NFC\n",
    "tokenizado = wrapped_tokenizer.encode(frase_teste)\n",
    "detokenizado = wrapped_tokenizer.decode(tokenizado)\n",
    "print(frase_teste)\n",
    "print(len(tokenizado))\n",
    "print(detokenizado)"
   ]
  },
  {
   "cell_type": "code",
   "execution_count": 6,
   "metadata": {},
   "outputs": [
    {
     "name": "stdout",
     "output_type": "stream",
     "text": [
      "Esta é a minha primeira frase maçante. Senhor cuzão 12345\n",
      "16\n",
      "Esta é a minha primeira frase maçante. Senhor cuzão 12345\n"
     ]
    }
   ],
   "source": [
    "#normal\n",
    "tokenizado = wrapped_tokenizer.encode(frase_teste)\n",
    "detokenizado = wrapped_tokenizer.decode(tokenizado)\n",
    "print(frase_teste)\n",
    "print(len(tokenizado))\n",
    "print(detokenizado)"
   ]
  }
 ],
 "metadata": {
  "kernelspec": {
   "display_name": "venv",
   "language": "python",
   "name": "python3"
  },
  "language_info": {
   "codemirror_mode": {
    "name": "ipython",
    "version": 3
   },
   "file_extension": ".py",
   "mimetype": "text/x-python",
   "name": "python",
   "nbconvert_exporter": "python",
   "pygments_lexer": "ipython3",
   "version": "3.8.10"
  },
  "orig_nbformat": 4
 },
 "nbformat": 4,
 "nbformat_minor": 2
}
